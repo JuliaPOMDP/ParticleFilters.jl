{
 "cells": [
  {
   "cell_type": "markdown",
   "metadata": {},
   "source": [
    "# Using a Particle Filter with POMDPs.jl\n",
    "\n",
    "The particle filters in `ParticleFilters.jl` can be used out of the box as [updaters](http://juliapomdp.github.io/POMDPs.jl/latest/concepts.html#beliefs_and_updaters-1) for [POMDPs.jl](https://github.com/JuliaPOMDP/POMDPs.jl). This tutorial will briefly demonstrate usage with the [LightDark problem from POMDPModels.jl](https://github.com/JuliaPOMDP/POMDPModels.jl/blob/master/src/LightDark.jl)."
   ]
  },
  {
   "cell_type": "code",
   "execution_count": 46,
   "metadata": {},
   "outputs": [],
   "source": [
    "using ParticleFilters\n",
    "using Reel\n",
    "using POMDPs\n",
    "using POMDPModels\n",
    "using POMDPSimulators\n",
    "using POMDPPolicies\n",
    "using Random"
   ]
  },
  {
   "cell_type": "markdown",
   "metadata": {},
   "source": [
    "## Running a Simulation\n",
    "\n",
    "The following code creates the pomdp model and the associated particle filter and runs a simulation producing a history."
   ]
  },
  {
   "cell_type": "code",
   "execution_count": 64,
   "metadata": {},
   "outputs": [],
   "source": [
    "pomdp = LightDark1D()\n",
    "N=1000\n",
    "up = SIRParticleFilter(pomdp, N)\n",
    "policy = FunctionPolicy(b->1)\n",
    "b0 = POMDPModels.LDNormalStateDist(-15.0, 5.0)\n",
    "hr = HistoryRecorder(max_steps=40)\n",
    "history = simulate(hr, pomdp, policy, up, b0);"
   ]
  },
  {
   "cell_type": "markdown",
   "metadata": {},
   "source": [
    "## Visualization\n",
    "\n",
    "We can then plot the particle distribution at each step using Reel.jl and Plots.jl.\n",
    "\n",
    "Note that as the belief passes through the light region (centered at y=5, t"
   ]
  },
  {
   "cell_type": "code",
   "execution_count": 53,
   "metadata": {},
   "outputs": [],
   "source": [
    "using Plots\n",
    "using Reel"
   ]
  },
  {
   "cell_type": "code",
   "execution_count": 65,
   "metadata": {},
   "outputs": [
    {
     "data": {
      "text/plain": [
       "\"hist.gif\""
      ]
     },
     "execution_count": 65,
     "metadata": {},
     "output_type": "execute_result"
    }
   ],
   "source": [
    "frames = Frames(MIME(\"image/png\"), fps=4)\n",
    "for b in belief_hist(history)\n",
    "    ys = [s.y for s in particles(b)]\n",
    "    nbins = round(Int, (maximum(ys)-minimum(ys))*2)\n",
    "    push!(frames, histogram(ys,\n",
    "                            xlim=(-20,20),\n",
    "                            ylim=(0,1000),\n",
    "                            nbins=nbins,\n",
    "                            label=\"\",\n",
    "                            title=\"Particle Histogram\")\n",
    "                            \n",
    "    )\n",
    "end\n",
    "write(\"hist.gif\", frames)"
   ]
  },
  {
   "cell_type": "code",
   "execution_count": 63,
   "metadata": {},
   "outputs": [
    {
     "data": {
      "text/html": [
       "<img src=\"hist.gif\"/>"
      ],
      "text/plain": [
       "HTML{String}(\"<img src=\\\"hist.gif\\\"/>\")"
      ]
     },
     "execution_count": 63,
     "metadata": {},
     "output_type": "execute_result"
    }
   ],
   "source": [
    "HTML(\"\"\"<img src=\"hist.gif\"/>\"\"\")"
   ]
  },
  {
   "cell_type": "code",
   "execution_count": null,
   "metadata": {},
   "outputs": [],
   "source": []
  }
 ],
 "metadata": {
  "kernelspec": {
   "display_name": "Julia 1.0.0",
   "language": "julia",
   "name": "julia-1.0"
  },
  "language_info": {
   "file_extension": ".jl",
   "mimetype": "application/julia",
   "name": "julia",
   "version": "1.0.0"
  }
 },
 "nbformat": 4,
 "nbformat_minor": 2
}
