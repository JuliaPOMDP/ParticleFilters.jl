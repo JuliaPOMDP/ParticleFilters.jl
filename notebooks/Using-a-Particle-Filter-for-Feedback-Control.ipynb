{
 "cells": [
  {
   "cell_type": "markdown",
   "metadata": {},
   "source": [
    "# Using a Particle Filter for Feedback Control\n",
    "\n",
    "In this tutorial, we will give a brief example of how to use a Particle Filter from `ParticleFilters.jl` for feedback control.\n",
    "\n",
    "## System Description\n",
    "\n",
    "The sysem is a two-dimensional discrete-time double integrator with gaussian process and observation noise. The state at time $k$, $x_k$, is a 4-element vector consisting of the position in two dimensions and the velocity. The dynamics can be represented with the linear difference equation:\n",
    "\n",
    "$$x_{k+1} = f(x_k, u_k, w_k) = A x_k + B u_k + w_k \\text{,}$$\n",
    "\n",
    "where $w_k$ are independent but identically-distributed zero-mean Gaussian random variables with covariance matrix $W$. $A$ and $B$ are given in the code below.\n",
    "\n",
    "The measurements are noisy observations of the position generated according to \n",
    "\n",
    "$$y_{k+1} = h(x_k, u_k, x_{k+1}, v_{k+1}) = C x_{k+1} + v_{k+1} \\text{,}$$\n",
    "\n",
    "where $C$ selects only the position of the model, and $v_k$ are independent identically-distributed zero-mean Gaussian random variables with covariance matrix $V$.\n",
    "\n",
    "## Control Law Description\n",
    "\n",
    "The control law, will use the mean from the particle filter belief to try to make the state oscillate about the origin, i.e.\n",
    "\n",
    "$$u = K \\hat{x}$$\n",
    "\n",
    "where $\\hat{x}$ is the mean estimate of the state, and\n",
    "\n",
    "$$K = [-1, -1, 0, 0]$$\n",
    "\n",
    "It should be noted that, since this system is linear with Gaussian noise, a [Kalman Filter](https://en.wikipedia.org/wiki/Kalman_filter) would be much better-suited for this case, but we use the system here for its simplicity. In general, particle filters can be used with any nonlinear dynamical systems."
   ]
  },
  {
   "cell_type": "code",
   "execution_count": 1,
   "metadata": {},
   "outputs": [],
   "source": [
    "using ParticleFilters\n",
    "using Distributions\n",
    "using StaticArrays\n",
    "using LinearAlgebra\n",
    "using Random"
   ]
  },
  {
   "cell_type": "markdown",
   "metadata": {},
   "source": [
    "## Dynamics model\n",
    "\n",
    "We begin by defining the dynamics of the system. For more information about defining a model, see the \"Models\" section of the docs [TODO: add link]."
   ]
  },
  {
   "cell_type": "code",
   "execution_count": 2,
   "metadata": {},
   "outputs": [
    {
     "data": {
      "text/plain": [
       "f (generic function with 1 method)"
      ]
     },
     "execution_count": 2,
     "metadata": {},
     "output_type": "execute_result"
    }
   ],
   "source": [
    "const dt = 0.1 # time step\n",
    "\n",
    "const A = [1.0 0.0 dt  0.0;\n",
    "           0.0 1.0 0.0 dt ;\n",
    "           0.0 0.0 1.0 0.0;\n",
    "           0.0 0.0 0.0 1.0]\n",
    "\n",
    "const B = [0.5*dt^2 0.0     ;\n",
    "           0.0      0.5*dt^2;\n",
    "           dt       0.0     ;\n",
    "           0.0      dt      ]\n",
    "\n",
    "const W = Matrix(0.01*Diagonal{Float64}(I, 4)) # Process noise covariance\n",
    "const V = Matrix(Diagonal{Float64}(I, 2)) # Measurement noise covariance\n",
    "\n",
    "f(x, u, rng) = A*x + B*u + rand(rng, MvNormal(W))"
   ]
  },
  {
   "cell_type": "markdown",
   "metadata": {},
   "source": [
    "## Observation Model\n",
    "\n",
    "Next, the observation model is defined. $h$ generates an observation (this is only used in the simulation, not in the particle filter), $g$ returns the relative likelyhood of an observation given the previous state, control, and current state."
   ]
  },
  {
   "cell_type": "code",
   "execution_count": 3,
   "metadata": {},
   "outputs": [
    {
     "data": {
      "text/plain": [
       "g (generic function with 1 method)"
      ]
     },
     "execution_count": 3,
     "metadata": {},
     "output_type": "execute_result"
    }
   ],
   "source": [
    "h(x, rng) = rand(rng, MvNormal(x[1:2], V))\n",
    "g(x0, u, x, y) = pdf(MvNormal(x[1:2], V), y)"
   ]
  },
  {
   "cell_type": "markdown",
   "metadata": {},
   "source": [
    "## Particle Filter\n",
    "\n",
    "These models are combined to create a model suitable for the filter. Note that the type of the state is designated as a parameter to the constructor. See the \"Models\" section of the documentation for more info [TODO: add link]."
   ]
  },
  {
   "cell_type": "code",
   "execution_count": 4,
   "metadata": {},
   "outputs": [
    {
     "data": {
      "text/plain": [
       "ParticleFilterModel{Array{Float64,1},typeof(f),typeof(g)}(f, g)"
      ]
     },
     "execution_count": 4,
     "metadata": {},
     "output_type": "execute_result"
    }
   ],
   "source": [
    "model = ParticleFilterModel{Vector{Float64}}(f, g)"
   ]
  },
  {
   "cell_type": "markdown",
   "metadata": {},
   "source": [
    "and the particle filter itself is created."
   ]
  },
  {
   "cell_type": "code",
   "execution_count": 5,
   "metadata": {},
   "outputs": [],
   "source": [
    "N = 1000\n",
    "filter = SIRParticleFilter(model, N);"
   ]
  },
  {
   "cell_type": "markdown",
   "metadata": {},
   "source": [
    "## Running a Simulation\n",
    "\n",
    "To run a simulation, first an initial belief and initial state need to be created. The initial beleif will consist of particles selected uniformly from $[-2, 2]^4$.\n",
    "\n",
    "The simulation consists of a loop in which the control is calculated from the mean of the particle. Then the state is updated with the dynamics and a new measurement is generated. Finally, the filter is used to update the belief based on this new measurement.\n",
    "\n",
    "Using the `update` function in this interactive fashion allows the particle  filter to be used as an estimator/observer for feedback control."
   ]
  },
  {
   "cell_type": "code",
   "execution_count": 6,
   "metadata": {},
   "outputs": [],
   "source": [
    "b = ParticleCollection([4.0*rand(4).-2.0 for i in 1:N])\n",
    "x = [0.0, 1.0, 1.0, 0.0];"
   ]
  },
  {
   "cell_type": "code",
   "execution_count": 7,
   "metadata": {},
   "outputs": [
    {
     "name": "stderr",
     "output_type": "stream",
     "text": [
      "┌ Info: Recompiling stale cache file /home/zach/.julia/compiled/v1.0/Plots/ld3vC.ji for Plots [91a5bcdd-55d7-5caf-9e0b-520d859cae80]\n",
      "└ @ Base loading.jl:1184\n",
      "WARNING: StaticArrays.FixedSizeArrays is deprecated.  Use StaticArrays directly.\n",
      "  likely near /home/zach/.julia/packages/Plots/Ufx0i/src/Plots.jl:8\n"
     ]
    }
   ],
   "source": [
    "using Plots\n",
    "rng = Random.GLOBAL_RNG;"
   ]
  },
  {
   "cell_type": "code",
   "execution_count": 13,
   "metadata": {},
   "outputs": [
    {
     "name": "stdout",
     "output_type": "stream",
     "text": [
      "...................................................................................................."
     ]
    }
   ],
   "source": [
    "plots = []\n",
    "\n",
    "for i in 1:100\n",
    "    print(\".\")\n",
    "    m = mean(b)\n",
    "    u = [-m[1], -m[2]] # Control law - try to orbit the origin\n",
    "    x = f(x, u, rng)\n",
    "    y = h(x, rng)\n",
    "    b = update(filter, b, u, y)\n",
    "\n",
    "    plt = scatter([p[1] for p in particles(b)], [p[2] for p in particles(b)], color=:black, markersize=0.1, label=\"\")\n",
    "    scatter!(plt, [x[1]], [x[2]], color=:blue, xlim=(-5,5), ylim=(-5,5), label=\"\")\n",
    "    push!(plots, plt)\n",
    "end"
   ]
  },
  {
   "cell_type": "markdown",
   "metadata": {},
   "source": [
    "### Visualization\n",
    "\n",
    "The results of this simulation can be visualized as a gif animation."
   ]
  },
  {
   "cell_type": "code",
   "execution_count": 9,
   "metadata": {},
   "outputs": [],
   "source": [
    "using Reel"
   ]
  },
  {
   "cell_type": "code",
   "execution_count": 10,
   "metadata": {},
   "outputs": [
    {
     "name": "stdout",
     "output_type": "stream",
     "text": [
      "...................................................................................................."
     ]
    },
    {
     "data": {
      "text/plain": [
       "\"output.gif\""
      ]
     },
     "execution_count": 10,
     "metadata": {},
     "output_type": "execute_result"
    }
   ],
   "source": [
    "frames = Frames(MIME(\"image/png\"), fps=10)\n",
    "for plt in plots\n",
    "    print(\".\")\n",
    "    push!(frames, plt)\n",
    "end\n",
    "write(\"output.gif\", frames)"
   ]
  },
  {
   "cell_type": "code",
   "execution_count": 11,
   "metadata": {},
   "outputs": [
    {
     "data": {
      "text/html": [
       "<img src=\"output.gif\"/>"
      ],
      "text/plain": [
       "HTML{String}(\"<img src=\\\"output.gif\\\"/>\")"
      ]
     },
     "execution_count": 11,
     "metadata": {},
     "output_type": "execute_result"
    }
   ],
   "source": [
    "HTML(\"\"\"<img src=\"output.gif\"/>\"\"\")"
   ]
  },
  {
   "cell_type": "code",
   "execution_count": null,
   "metadata": {},
   "outputs": [],
   "source": []
  }
 ],
 "metadata": {
  "kernelspec": {
   "display_name": "Julia 1.0.0",
   "language": "julia",
   "name": "julia-1.0"
  },
  "language_info": {
   "file_extension": ".jl",
   "mimetype": "application/julia",
   "name": "julia",
   "version": "1.0.0"
  }
 },
 "nbformat": 4,
 "nbformat_minor": 2
}
